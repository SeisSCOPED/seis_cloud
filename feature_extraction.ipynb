{
 "cells": [
  {
   "attachments": {},
   "cell_type": "markdown",
   "metadata": {},
   "source": [
    "# Tutorial for Seis Cloud 101\n",
    "\n",
    "\n",
    "This tutorial is a barebone seismological workflow to extract features from seismic data. The data can be queried using FDSN webservices and using S3 bucket from SCEDC open data sets."
   ]
  },
  {
   "cell_type": "code",
   "execution_count": 3,
   "metadata": {},
   "outputs": [],
   "source": [
    "import obspy\n",
    "from obspy.clients.fdsn import Client\n",
    "client = Client(\"SCEDC\")"
   ]
  },
  {
   "attachments": {},
   "cell_type": "markdown",
   "metadata": {},
   "source": [
    "We will download continuous data from a specific station and a specific date"
   ]
  },
  {
   "cell_type": "code",
   "execution_count": 5,
   "metadata": {},
   "outputs": [],
   "source": [
    "net = \"CI\"\n",
    "sta = \"RIO\"\n",
    "chan = \"HHZ\"\n",
    "loc =\"*\"\n",
    "t0 = obspy.UTCDateTime(\"2022-01-01\")"
   ]
  },
  {
   "attachments": {},
   "cell_type": "markdown",
   "metadata": {},
   "source": [
    "First, we download data from webservices (the old way)"
   ]
  },
  {
   "cell_type": "code",
   "execution_count": 6,
   "metadata": {},
   "outputs": [],
   "source": [
    "st=client.get_waveforms(network=net,station=sta,location=loc,channel=chan,\\\n",
    "                       starttime=t0-1800,endtime=t0+86400,attach_response=True)\n",
    "st.remove_response()\n",
    "st.plot() "
   ]
  }
 ],
 "metadata": {
  "kernelspec": {
   "display_name": "Python 3",
   "language": "python",
   "name": "python3"
  },
  "language_info": {
   "codemirror_mode": {
    "name": "ipython",
    "version": 3
   },
   "file_extension": ".py",
   "mimetype": "text/x-python",
   "name": "python",
   "nbconvert_exporter": "python",
   "pygments_lexer": "ipython3",
   "version": "3.9.15"
  },
  "orig_nbformat": 4
 },
 "nbformat": 4,
 "nbformat_minor": 2
}
