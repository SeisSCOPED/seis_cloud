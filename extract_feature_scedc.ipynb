{
 "cells": [
  {
   "attachments": {},
   "cell_type": "markdown",
   "metadata": {},
   "source": [
    "# Extracting data and features from seismic data\n",
    "\n",
    "This tutorial involves extracting data and feature from the data by querying data from the AWS SCEDC bucket"
   ]
  },
  {
   "cell_type": "code",
   "execution_count": 6,
   "metadata": {},
   "outputs": [],
   "source": [
    "import numpy as np\n",
    "import matplotlib.pyplot as plt\n",
    "import pandas as pd\n",
    "import datetime\n",
    "from time import time\n",
    "import os\n",
    "import obspy\n",
    "from scipy.fftpack import fft, fftfreq, next_fast_len\n",
    "from obspy.clients.fdsn import Client\n",
    "# The S3 stuff\n",
    "import boto3\n",
    "from botocore import UNSIGNED\n",
    "from botocore.config import Config"
   ]
  },
  {
   "attachments": {},
   "cell_type": "markdown",
   "metadata": {},
   "source": [
    "Configure clients to query from webservices and from S3"
   ]
  },
  {
   "cell_type": "code",
   "execution_count": 2,
   "metadata": {},
   "outputs": [],
   "source": [
    "# FDSN - webservice client\n",
    "client = Client(\"SCEDC\")\n",
    "\n",
    "# S3 - SCEDC data bucket\n",
    "BUCKET_NAME = 'scedc-pds'\n",
    "s3 = boto3.resource('s3', config=Config(signature_version=UNSIGNED))\n",
    "\n",
    "# where to put the data & outputs\n",
    "os.makedirs('./data' , exist_ok=True)\n",
    "os.makedirs('./output' , exist_ok=True)"
   ]
  },
  {
   "attachments": {},
   "cell_type": "markdown",
   "metadata": {},
   "source": [
    "Configure the data query below"
   ]
  },
  {
   "cell_type": "code",
   "execution_count": 4,
   "metadata": {},
   "outputs": [],
   "source": [
    "net = \"CI\"\n",
    "sta = \"RIO\"\n",
    "chan = \"HHZ\"\n",
    "loc = \"*\"\n",
    "year = 2022\n",
    "mt = 5\n",
    "day = 9\n",
    "\n",
    "t0 = datetime.datetime( year , mt , day)     # date time object\n",
    "doy = int(t0.strftime(\"%j\"))                  # calculate the day of year\n",
    "tt0 = obspy.UTCDateTime( year , mt ,day)     # Obspy datetime object\n",
    "\n",
    "# define the file name accordint\n",
    "file = net+sta+'__'+chan+'___'+str(year)+str(doy).zfill(3)+'.ms'\n",
    "\n",
    "fmin = 0.1  # mininmum frequenc of the bandpass\n",
    "fmax = 10   # maximum frequency band\n",
    "\n",
    "# get data from seb services"
   ]
  },
  {
   "attachments": {},
   "cell_type": "markdown",
   "metadata": {},
   "source": [
    "Test query data from SCEDC webservices. "
   ]
  },
  {
   "cell_type": "code",
   "execution_count": 38,
   "metadata": {},
   "outputs": [
    {
     "name": "stdout",
     "output_type": "stream",
     "text": [
      "Download time webservices 1.8870368003845215  s\n"
     ]
    }
   ],
   "source": [
    "\n",
    "t0 = time()\n",
    "st1=client.get_waveforms(network = net ,station=sta ,location=loc ,channel=chan ,\\\n",
    "                       starttime=tt0 ,endtime=tt0+86400)\n",
    "st1.write(file[:-1]+\"seed\",fmt=\"mseed\")     # this step is not necessary for the analysis but necessary to compare with the download time with S3\n",
    "t1=time()\n",
    "print(f\"Download time webservices takes {(t1-t0)}  s\")"
   ]
  },
  {
   "attachments": {},
   "cell_type": "markdown",
   "metadata": {},
   "source": [
    "Test query data from S3 bucket. We need to know the file structure of the SCEDC bucket"
   ]
  },
  {
   "cell_type": "code",
   "execution_count": 17,
   "metadata": {},
   "outputs": [
    {
     "name": "stdout",
     "output_type": "stream",
     "text": [
      "                           PRE FDSNstationXML/\n",
      "                           PRE Ridgecrest_DAS/\n",
      "                           PRE continuous_waveforms/\n",
      "                           PRE earthquake_catalogs/\n",
      "                           PRE event_phases/\n",
      "                           PRE event_waveforms/\n",
      "                           PRE indexmap/\n",
      "2019-12-18 09:50:20       2041 README\n"
     ]
    }
   ],
   "source": [
    "!aws s3 ls --no-sign-request s3://scedc-pds/"
   ]
  },
  {
   "cell_type": "code",
   "execution_count": 18,
   "metadata": {},
   "outputs": [
    {
     "name": "stdout",
     "output_type": "stream",
     "text": [
      "                           PRE 1999/\n",
      "                           PRE 2000/\n",
      "                           PRE 2001/\n",
      "                           PRE 2002/\n",
      "                           PRE 2003/\n",
      "                           PRE 2004/\n",
      "                           PRE 2005/\n",
      "                           PRE 2006/\n",
      "                           PRE 2007/\n",
      "                           PRE 2008/\n",
      "                           PRE 2009/\n",
      "                           PRE 2010/\n",
      "                           PRE 2011/\n",
      "                           PRE 2012/\n",
      "                           PRE 2013/\n",
      "                           PRE 2014/\n",
      "                           PRE 2015/\n",
      "                           PRE 2016/\n",
      "                           PRE 2017/\n",
      "                           PRE 2018/\n",
      "                           PRE 2019/\n",
      "                           PRE 2020/\n",
      "                           PRE 2021/\n",
      "                           PRE 2022/\n",
      "                           PRE 2023/\n",
      "                           PRE index/\n"
     ]
    }
   ],
   "source": [
    "!aws s3 ls --no-sign-request s3://scedc-pds/continuous_waveforms/"
   ]
  },
  {
   "cell_type": "code",
   "execution_count": 31,
   "metadata": {},
   "outputs": [
    {
     "name": "stdout",
     "output_type": "stream",
     "text": [
      "Download time from S3  0.34758901596069336 s\n"
     ]
    }
   ],
   "source": [
    "\n",
    "# Key defined by SCEDC bucket\n",
    "KEY = 'continuous_waveforms/'+str(year)+'/'+str(year)+'_'+str(doy).zfill(3)+'/'+file\n",
    "\n",
    "\n",
    "# download data\n",
    "t0 = time()\n",
    "s3.Bucket(BUCKET_NAME).download_file(KEY, './data/' + file)\n",
    "t1 = time()\n",
    "print(f\"Download time from S3 takes {(t1-t0)} s\")\n",
    "# this would be better if could stream in memory and save into disk"
   ]
  },
  {
   "attachments": {},
   "cell_type": "markdown",
   "metadata": {},
   "source": [
    "**Repeat the download cells and compare the download times** from webservices vs S3. As you repeat, you notice that the download time is not exactly the same, this depends on a dynamic workload of the backend servers. AWS is specialized in data servers and does it well.\n",
    "\n",
    "You can test the exact same code on your laptop and see how much time varies now that you are outside of the AWS region.\n",
    "\n",
    "Below is a silly code to emulate a feature serial extraction workflow."
   ]
  },
  {
   "cell_type": "code",
   "execution_count": 39,
   "metadata": {},
   "outputs": [
    {
     "name": "stdout",
     "output_type": "stream",
     "text": [
      "18076.57017390274 1652130135.478393\n",
      "2.1815046296296297\n"
     ]
    },
    {
     "data": {
      "image/png": "[encoded data removed]",
      "text/plain": [
       "<Figure size 640x480 with 1 Axes>"
      ]
     },
     "metadata": {},
     "output_type": "display_data"
    }
   ],
   "source": [
    "# Feature selection\n",
    "t0=time()\n",
    "st = obspy.read('./data/' + file)\n",
    "t1=time()\n",
    "print(f\"reading time from local storage takes  {(t1-t0)} s\")\n",
    "st.filter('bandpass', freqmin = fmin, freqmax = fmax)\n",
    "plt.plot(st[0].times(), st[0].data)\n",
    "plt.savefig('./output/test.png')\n",
    "\n",
    "# get the maximum value in that frequency band\n",
    "Amax = np.max(np.abs(st[0].data))\n",
    "imax = np.argmax(np.abs(st[0].data))\n",
    "Amaxt = st[0].times(type='timestamp')[imax]  # this is timestamps since POSIX time (197-,1,1).\n",
    "print( Amax , Amaxt)\n",
    "\n",
    "\n",
    "# 2. Fourier Transform\n",
    "npts = st[0].stats.npts\n",
    "# FFT the signals\n",
    "# fill up until 2^N value to speed up the FFT\n",
    "Nfft = next_fast_len(int(st[0].data.shape[0])) # this will be an even number\n",
    "freqVec = fftfreq(Nfft, d=st[0].stats.delta)[:Nfft//2]\n",
    "st.taper(max_percentage=0.05)\n",
    "Zhat = fft(st[0].data , n=Nfft)\n",
    "\n",
    "imax = np.argmax(np.abs(Zhat[:Nfft//2]/Nfft))\n",
    "Fmax = imax*st[0].stats.sampling_rate/2/Nfft\n",
    "print(Fmax)\n"
   ]
  },
  {
   "attachments": {},
   "cell_type": "markdown",
   "metadata": {},
   "source": [
    "Save extracted features into a DataFrame and Pandas"
   ]
  },
  {
   "cell_type": "code",
   "execution_count": null,
   "metadata": {},
   "outputs": [],
   "source": [
    "\n",
    "D = {'network':net,'station':sta,'channel':chan,'location':loc,\\\n",
    "     'freqmin':[fmin],'freqmax':[fmax],'date':[Amaxt],'Fmax':[Fmax]}\n",
    "print(D)\n",
    "print(Amaxt)\n",
    "\n",
    "\n",
    "df=pd.DataFrame.from_dict(D)\n",
    "df.to_csv('./output/features.csv')"
   ]
  },
  {
   "attachments": {},
   "cell_type": "markdown",
   "metadata": {},
   "source": [
    "To download the data from EC2 to your local, you have two options:\n",
    "\n",
    "1. From the jupyter notebook webpage, you can right click on the file and download. This is the easiest option when you are doing a manual download of a few files.\n",
    "2. For larger requests, you have to use ```scp```. For this, open a new terminal and type:\n",
    "        cd the_directory_where_your_pem_or_ppk_file_is\n",
    "        scp -i \"yourkeycredentials.pem\" ec2-user@ec2-ip.amazon.com:/home/ec2-user/seis_cloud/outouts ~/yourchoiceofpath/"
   ]
  },
  {
   "cell_type": "markdown",
   "metadata": {},
   "source": []
  }
 ],
 "metadata": {
  "kernelspec": {
   "display_name": "seiscloud",
   "language": "python",
   "name": "python3"
  },
  "language_info": {
   "codemirror_mode": {
    "name": "ipython",
    "version": 3
   },
   "file_extension": ".py",
   "mimetype": "text/x-python",
   "name": "python",
   "nbconvert_exporter": "python",
   "pygments_lexer": "ipython3",
   "version": "3.8.16"
  },
  "orig_nbformat": 4
 },
 "nbformat": 4,
 "nbformat_minor": 2
}
